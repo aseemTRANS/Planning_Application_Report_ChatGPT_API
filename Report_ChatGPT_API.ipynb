{
 "cells": [
  {
   "cell_type": "markdown",
   "id": "1a1f38f9",
   "metadata": {},
   "source": [
    "## Importing Libraries"
   ]
  },
  {
   "cell_type": "code",
   "execution_count": null,
   "id": "de053558-a5f5-4897-a5f9-a930c0712bbf",
   "metadata": {},
   "outputs": [],
   "source": [
    "import pandas as pd\n",
    "import geopandas as gpd\n",
    "from shapely.geometry import Point\n",
    "import re\n",
    "from shapely.wkt import loads\n",
    "import matplotlib.pyplot as plt\n",
    "from pyproj import Proj, transform"
   ]
  },
  {
   "cell_type": "code",
   "execution_count": null,
   "id": "11e4f3cb-ee2a-4394-bfe1-04575782c441",
   "metadata": {},
   "outputs": [],
   "source": [
    "#pip install openai==0.28"
   ]
  },
  {
   "cell_type": "code",
   "execution_count": null,
   "id": "81c88fcb",
   "metadata": {},
   "outputs": [],
   "source": [
    "import os\n",
    "import openai"
   ]
  },
  {
   "cell_type": "code",
   "execution_count": null,
   "id": "7219b50e",
   "metadata": {},
   "outputs": [],
   "source": [
    "#pip install python-docx"
   ]
  },
  {
   "cell_type": "code",
   "execution_count": null,
   "id": "a0dd0f3f",
   "metadata": {},
   "outputs": [],
   "source": [
    "from docx import Document\n",
    "from docx.shared import Inches"
   ]
  },
  {
   "cell_type": "code",
   "execution_count": null,
   "id": "2ec28517",
   "metadata": {},
   "outputs": [],
   "source": [
    "from geopy.exc import GeopyError\n",
    "import time\n",
    "from ipyleaflet import Map, Marker, basemaps, WidgetControl\n",
    "from ipywidgets import Button, HTML\n",
    "from IPython.display import display\n",
    "from ipywidgets import widgets, Layout\n",
    "from geopy.geocoders import Nominatim"
   ]
  },
  {
   "cell_type": "code",
   "execution_count": null,
   "id": "9ff7a42f",
   "metadata": {},
   "outputs": [],
   "source": [
    "openai.api_key ='your key'"
   ]
  },
  {
   "cell_type": "markdown",
   "id": "81d19b5e",
   "metadata": {},
   "source": [
    "## Opening The Data"
   ]
  },
  {
   "cell_type": "code",
   "execution_count": null,
   "id": "aa95bb4c-68a2-48db-8880-aea5a1de05e9",
   "metadata": {},
   "outputs": [],
   "source": [
    "df = pd.read_csv('leeds_council_planning_apps_centroids_stx_y.csv')"
   ]
  },
  {
   "cell_type": "code",
   "execution_count": null,
   "id": "026ddfbd-996a-4739-9779-40204d69ce00",
   "metadata": {},
   "outputs": [],
   "source": [
    "df['centroid_point'] = df['centroid_geom'].apply(lambda x: loads(x))"
   ]
  },
  {
   "cell_type": "code",
   "execution_count": null,
   "id": "8982d972-8eaf-4c44-a0da-094e2fbae0a3",
   "metadata": {},
   "outputs": [],
   "source": [
    "gdf = gpd.GeoDataFrame(df, geometry='centroid_point')"
   ]
  },
  {
   "cell_type": "code",
   "execution_count": null,
   "id": "68578c08",
   "metadata": {},
   "outputs": [],
   "source": [
    "gdf.head(5)"
   ]
  },
  {
   "cell_type": "code",
   "execution_count": null,
   "id": "305a12e8",
   "metadata": {},
   "outputs": [],
   "source": []
  },
  {
   "cell_type": "markdown",
   "id": "5b41efca",
   "metadata": {},
   "source": [
    "## Converting lat/long into Point (Area of Interest)"
   ]
  },
  {
   "cell_type": "code",
   "execution_count": null,
   "id": "f81417c5-0195-4971-b75b-a8f7e803979f",
   "metadata": {},
   "outputs": [],
   "source": []
  },
  {
   "cell_type": "markdown",
   "id": "8c85ca6a",
   "metadata": {},
   "source": [
    "## Taking property location for analysis"
   ]
  },
  {
   "cell_type": "markdown",
   "id": "dfba1b13",
   "metadata": {},
   "source": [
    "## Only lat long selection"
   ]
  },
  {
   "cell_type": "code",
   "execution_count": null,
   "id": "88baedd1",
   "metadata": {},
   "outputs": [],
   "source": [
    "geolocator = Nominatim(user_agent=\"geoapiExercises\")"
   ]
  },
  {
   "cell_type": "code",
   "execution_count": null,
   "id": "592accff",
   "metadata": {},
   "outputs": [],
   "source": [
    "# 定义 WGS84 坐标系（GPS 使用的坐标系）\n",
    "wgs84 = Proj(init='epsg:4326')\n",
    "\n",
    "# 定义 OSGB36 坐标系（英国国家网格使用的坐标系）\n",
    "osgb36 = Proj(init='epsg:27700')\n",
    "\n",
    "def latlon_to_eastingnorthing(lat, lon):\n",
    "    # 将 WGS84 坐标转换为 OSGB36\n",
    "    easting, northing = transform(wgs84, osgb36, lon, lat)\n",
    "    return easting, northing\n"
   ]
  },
  {
   "cell_type": "code",
   "execution_count": null,
   "id": "58a206e6",
   "metadata": {},
   "outputs": [],
   "source": [
    "def geocode(address):\n",
    "    try:\n",
    "        location = geolocator.geocode(address)\n",
    "        if location:\n",
    "            return (location.latitude, location.longitude)\n",
    "    except GeopyError as e:  # This catches any geopy-related error\n",
    "        print(f\"Geocoding error: {e}. Retrying...\")\n",
    "        time.sleep(1)  # Wait for a second and retry\n",
    "        return geocode(address)\n",
    "    except Exception as e:  # This catches any other unexpected error\n",
    "        print(f\"Unexpected error: {e}.\")\n",
    "    return None"
   ]
  },
  {
   "cell_type": "code",
   "execution_count": null,
   "id": "20a65fce",
   "metadata": {},
   "outputs": [],
   "source": []
  },
  {
   "cell_type": "code",
   "execution_count": null,
   "id": "1107e589",
   "metadata": {
    "tags": []
   },
   "outputs": [],
   "source": [
    "\n",
    "# Creating a map centered at an example location\n",
    "m = Map(center=(53.79806386230326, -1.5437987280005416), zoom=10, basemap=basemaps.OpenStreetMap.Mapnik)\n",
    "\n",
    "marker = Marker(name='Click me!', draggable=True)\n",
    "m.add_layer(marker)\n",
    "\n",
    "# Widget to display coordinates\n",
    "coordinates = HTML()\n",
    "coordinates.value = f\"Click on the map to get coordinates!\"\n",
    "\n",
    "def handle_click(**kwargs):\n",
    "    if kwargs.get('type') == 'click':\n",
    "        coords = kwargs.get('coordinates')\n",
    "        marker.location = coords\n",
    "        coordinates.value = f\"Coordinates: {coords}\"\n",
    "\n",
    "m.on_interaction(handle_click)\n",
    "\n",
    "widget_control = WidgetControl(widget=coordinates, position='topright')\n",
    "m.add_control(widget_control)\n",
    "\n",
    "m\n"
   ]
  },
  {
   "cell_type": "code",
   "execution_count": null,
   "id": "0ac750d4",
   "metadata": {
    "tags": []
   },
   "outputs": [],
   "source": [
    "# lat, lon = marker.location"
   ]
  },
  {
   "cell_type": "code",
   "execution_count": null,
   "id": "ca1a0c19",
   "metadata": {},
   "outputs": [],
   "source": [
    "# lat, lon"
   ]
  },
  {
   "cell_type": "markdown",
   "id": "a23a714d",
   "metadata": {},
   "source": [
    "## With Address, Post Code and Map Selection"
   ]
  },
  {
   "cell_type": "code",
   "execution_count": null,
   "id": "7c032dab",
   "metadata": {},
   "outputs": [],
   "source": [
    "# # Initialize map\n",
    "# m = Map(center=(53.79806386230326, -1.5437987280005416), zoom=10, basemap=basemaps.OpenStreetMap.Mapnik)\n",
    "\n",
    "# # Marker to show selected location, initially hidden\n",
    "# marker = Marker(visible=False, draggable=False)\n",
    "# m.add_layer(marker)\n",
    "\n",
    "# # Address input widget\n",
    "# address_input = widgets.Text(\n",
    "#     value='',\n",
    "#     placeholder='Enter address or postcode',\n",
    "#     description='Address:',\n",
    "#     disabled=False,\n",
    "#     layout=Layout(width='50%')\n",
    "# )\n",
    "\n",
    "# # Function to update map based on address or click\n",
    "# def update_map_location(coords):\n",
    "#     if coords:\n",
    "#         marker.location = coords\n",
    "#         marker.visible = True\n",
    "#         m.center = coords\n",
    "#         m.zoom = 15\n",
    "#     else:\n",
    "#         print(\"Location not found.\")\n",
    "\n",
    "# # Function to handle address lookup\n",
    "# def on_address_entered(b):\n",
    "#     address = address_input.value\n",
    "#     coords = geocode(address)\n",
    "#     update_map_location(coords)\n",
    "\n",
    "# address_input.on_submit(on_address_entered)\n",
    "\n",
    "# # Function to handle map click\n",
    "# def handle_map_click(**kwargs):\n",
    "#     if kwargs.get('type') == 'click':\n",
    "#         coords = kwargs.get('coordinates')\n",
    "#         update_map_location(coords)\n",
    "\n",
    "# m.on_interaction(handle_map_click)\n",
    "\n",
    "# # Display widgets and map\n",
    "# display(address_input)\n",
    "# display(m)"
   ]
  },
  {
   "cell_type": "code",
   "execution_count": null,
   "id": "c3d19d5d",
   "metadata": {},
   "outputs": [],
   "source": [
    "lat, lon = marker.location"
   ]
  },
  {
   "cell_type": "code",
   "execution_count": null,
   "id": "27195cd5",
   "metadata": {},
   "outputs": [],
   "source": [
    "lat, lon"
   ]
  },
  {
   "cell_type": "code",
   "execution_count": null,
   "id": "ee6b78bc",
   "metadata": {},
   "outputs": [],
   "source": []
  },
  {
   "cell_type": "code",
   "execution_count": null,
   "id": "04559f20",
   "metadata": {},
   "outputs": [],
   "source": []
  },
  {
   "cell_type": "code",
   "execution_count": null,
   "id": "2a978ba4",
   "metadata": {},
   "outputs": [],
   "source": []
  },
  {
   "cell_type": "code",
   "execution_count": null,
   "id": "9cea6c30",
   "metadata": {
    "scrolled": true
   },
   "outputs": [],
   "source": [
    "\n",
    "wgs84 = Proj(init='epsg:4326')\n",
    "\n",
    "osgb36 = Proj(init='epsg:27700')\n",
    "\n",
    "def latlon_to_eastingnorthing(lat, lon):\n",
    "\n",
    "    easting, northing = transform(wgs84, osgb36, lon, lat)\n",
    "    return easting, northing\n"
   ]
  },
  {
   "cell_type": "code",
   "execution_count": null,
   "id": "ca83b155",
   "metadata": {},
   "outputs": [],
   "source": []
  },
  {
   "cell_type": "markdown",
   "id": "dd201b1b",
   "metadata": {},
   "source": [
    "## Creating A Buffer And Extracting All Planning Applications"
   ]
  },
  {
   "cell_type": "code",
   "execution_count": null,
   "id": "a9e978a6-1a0f-40f7-8d32-35cd69472ef3",
   "metadata": {},
   "outputs": [],
   "source": [
    "def la_user_buffer(lat, lon):\n",
    "\n",
    "    easting, northing = latlon_to_eastingnorthing(lat, lon)\n",
    "    user_point = Point(easting, northing)\n",
    "    user_buffer = user_point.buffer(250)\n",
    "    points_within_user_buffer = gdf.within(user_buffer)\n",
    "    data_within_user_buffer = gdf[points_within_user_buffer]\n",
    "    \n",
    "    return data_within_user_buffer"
   ]
  },
  {
   "cell_type": "code",
   "execution_count": null,
   "id": "8ca28704-af15-4488-bd5e-0bb2241190b4",
   "metadata": {},
   "outputs": [],
   "source": [
    "lat, lon = 53.80127891125444, -1.560597757080992\n",
    "\n",
    "test2=la_user_buffer(lat, lon)\n",
    "test2"
   ]
  },
  {
   "cell_type": "code",
   "execution_count": null,
   "id": "1bdd2fef",
   "metadata": {},
   "outputs": [],
   "source": [
    "test2.columns"
   ]
  },
  {
   "cell_type": "code",
   "execution_count": null,
   "id": "f5dc6444",
   "metadata": {},
   "outputs": [],
   "source": [
    "# import plotly.express as px"
   ]
  },
  {
   "cell_type": "code",
   "execution_count": null,
   "id": "2a7a9674",
   "metadata": {},
   "outputs": [],
   "source": [
    "# # Count the occurrence of each stage\n",
    "# stage_counts = test2['stage'].value_counts().reset_index()\n",
    "# stage_counts.columns = ['stage', 'count']\n",
    "\n",
    "# # Create a pie chart with Plotly\n",
    "# fig = px.pie(stage_counts, values='count', names='stage', title='Planning Application Stages Distribution')\n",
    "\n",
    "# # Show the pie chart\n",
    "# fig.show()"
   ]
  },
  {
   "cell_type": "code",
   "execution_count": null,
   "id": "e70968af",
   "metadata": {
    "scrolled": false
   },
   "outputs": [],
   "source": [
    "import folium\n",
    "import pandas as pd\n",
    "from pyproj import Proj, transform\n",
    "from folium import Circle\n",
    "\n",
    "# Correct conversion function from Easting/Northing to Latitude/Longitude\n",
    "def en_to_latlon(easting, northing):\n",
    "    osgb36 = Proj(init='epsg:27700')  # British National Grid\n",
    "    wgs84 = Proj(init='epsg:4326')  # WGS84\n",
    "    lon, lat = transform(osgb36, wgs84, easting, northing)\n",
    "    return (lat, lon)\n",
    "\n",
    "# Apply the correct conversion to each row in the DataFrame\n",
    "test2['coords'] = test2.apply(lambda x: en_to_latlon(x['easting'], x['northing']), axis=1)\n",
    "test2[['latitude', 'longitude']] = pd.DataFrame(test2['coords'].tolist(), index=test2.index)\n",
    "\n",
    "# Assuming the corrected property coordinates (from Easting/Northing conversion)\n",
    "property_coords = en_to_latlon(429037.95532085805, 433975.8563029277)\n",
    "\n",
    "# Create a map centered on the property location\n",
    "m = folium.Map(location=property_coords, zoom_start=15)\n",
    "\n",
    "# Add property marker\n",
    "folium.Marker(\n",
    "    property_coords,\n",
    "    popup='Property Location',\n",
    "    icon=folium.Icon(color='red', icon='home')\n",
    ").add_to(m)\n",
    "\n",
    "# Filter for 'DETAILED PLANS SUBMITTED' and 'DETAILED PLANS APPROVED'\n",
    "applications_to_plot = test2[test2['stage'].isin(['DETAILED PLANS SUBMITTED', 'DETAILED PLANS APPROVED'])]\n",
    "\n",
    "# Add markers for planning applications\n",
    "for _, row in applications_to_plot.iterrows():\n",
    "    folium.Marker(\n",
    "        location=(row['latitude'], row['longitude']),\n",
    "        popup=f\"{row['stage']} Planning Application\",\n",
    "        icon=folium.Icon(color='green' if row['stage'] == 'DETAILED PLANS APPROVED' else 'orange')\n",
    "    ).add_to(m)\n",
    "    \n",
    "# Draw a 250-meter buffer around the property location\n",
    "Circle(\n",
    "    location=property_coords,\n",
    "    radius=250,  # radius in meters\n",
    "    color='blue',\n",
    "    fill=True,\n",
    "    fill_color='blue',\n",
    "    fill_opacity=0.1,\n",
    "    popup='250m Buffer'\n",
    ").add_to(m)\n",
    "\n",
    "# Display the map\n",
    "m.save('map.html')\n",
    "m"
   ]
  },
  {
   "cell_type": "code",
   "execution_count": null,
   "id": "9331c744",
   "metadata": {},
   "outputs": [],
   "source": []
  },
  {
   "cell_type": "code",
   "execution_count": null,
   "id": "d617ed02",
   "metadata": {},
   "outputs": [],
   "source": [
    "from pyproj import Proj, transform\n",
    "\n",
    "# Latitude and Longitude in WGS84\n",
    "latitude = 53.80127891125444\n",
    "longitude = -1.560597757080992\n",
    "\n",
    "# Define the WGS84 projection (used for GPS coordinates)\n",
    "wgs84 = Proj(init='epsg:4326')\n",
    "\n",
    "# Define the British National Grid projection\n",
    "bng = Proj(init='epsg:27700')\n",
    "\n",
    "# Perform the conversion from WGS84 to British National Grid\n",
    "easting, northing = transform(wgs84, bng, longitude, latitude)\n",
    "\n",
    "print(f\"Easting: {easting}, Northing: {northing}\")\n"
   ]
  },
  {
   "cell_type": "code",
   "execution_count": null,
   "id": "cf739b46",
   "metadata": {},
   "outputs": [],
   "source": []
  },
  {
   "cell_type": "code",
   "execution_count": null,
   "id": "e018e331",
   "metadata": {},
   "outputs": [],
   "source": [
    "#app_pp.to_csv('test2.csv')"
   ]
  },
  {
   "cell_type": "markdown",
   "id": "8ec65ee2",
   "metadata": {},
   "source": [
    "## Visualization"
   ]
  },
  {
   "cell_type": "code",
   "execution_count": null,
   "id": "de0ec17f",
   "metadata": {},
   "outputs": [],
   "source": [
    "import folium\n",
    "import pandas as pd\n",
    "from pyproj import Transformer\n",
    "\n",
    "# 假设 test2 已经定义，并包含 'easting' 和 'northing' 列\n",
    "\n",
    "# 创建一个坐标转换器（OSGB36 to WGS84）\n",
    "transformer = Transformer.from_crs(\"epsg:27700\", \"epsg:4326\", always_xy=True)\n",
    "\n",
    "# 将 'easting' 和 'northing' 坐标转换为纬度和经度\n",
    "test2[['longitude', 'latitude']] = test2.apply(\n",
    "    lambda row: transformer.transform(row['easting'], row['northing']), axis=1, result_type='expand'\n",
    ")\n",
    "\n",
    "# 创建一个新的地图，以转换后的坐标为中心\n",
    "map_center = [test2['latitude'].mean(), test2['longitude'].mean()]\n",
    "m_ = folium.Map(location=map_center, zoom_start=16)\n",
    "\n",
    "# 添加转换后坐标的标记\n",
    "for idx, row in test2.iterrows():\n",
    "    folium.Marker([row['latitude'], row['longitude']], popup=row['proposal']).add_to(m_)\n",
    "\n",
    "# 使用提供的纬度和经度作为中心点\n",
    "lat, lon = 53.80127891125444, -1.560597757080992\n",
    "\n",
    "# 在地图上添加红色的中心点\n",
    "folium.Marker(\n",
    "    [lat, lon],\n",
    "    icon=folium.Icon(color='red'),\n",
    "    popup=\"Target Location\"\n",
    ").add_to(m_)\n",
    "\n",
    "# 绘制一个半径为250米的红色圆圈作为范围\n",
    "folium.Circle(\n",
    "    radius=250,\n",
    "    location=[lat, lon],\n",
    "    color='red',\n",
    "    fill=True,\n",
    "    fill_color='red',\n",
    "    popup=\"250m\"\n",
    ").add_to(m_)\n",
    "\n",
    "m_.save('porposal_location.html')\n",
    "m_\n"
   ]
  },
  {
   "cell_type": "code",
   "execution_count": null,
   "id": "21e90aff",
   "metadata": {},
   "outputs": [],
   "source": [
    "# api_key = 'your key'"
   ]
  },
  {
   "cell_type": "markdown",
   "id": "a34b83cb",
   "metadata": {},
   "source": [
    "## Other analysis"
   ]
  },
  {
   "cell_type": "markdown",
   "id": "50afd50a",
   "metadata": {},
   "source": [
    "### Locate the coordinates at LSOA"
   ]
  },
  {
   "cell_type": "code",
   "execution_count": null,
   "id": "04ae95b7",
   "metadata": {},
   "outputs": [],
   "source": [
    "from shapely.geometry import Point, Polygon\n",
    "import json\n",
    "\n",
    "# Latitude and longitude provided by the user\n",
    "\n",
    "point = Point(lon, lat)\n",
    "\n",
    "# Load the TopoJSON file to get the geometries\n",
    "with open(\"topo_E08000035.json\") as file:\n",
    "    topo_data = json.load(file)\n",
    "\n",
    "# Function to convert TopoJSON arc indices to coordinate pairs\n",
    "def topojson_to_coordinates(arc_indices, arcs):\n",
    "    coordinates = []\n",
    "    for index in arc_indices:\n",
    "        if index >= 0:\n",
    "            coordinates += arcs[index]\n",
    "        else:\n",
    "            coordinates += arcs[~index][::-1]\n",
    "    return coordinates\n",
    "\n",
    "# Iterate over the geometries in the TopoJSON file to find the LSOA\n",
    "lsoa_code = None\n",
    "lsoa_name = None\n",
    "for feature in topo_data[\"objects\"][\"E08000035\"][\"geometries\"]:\n",
    "    if feature[\"type\"] == \"Polygon\":\n",
    "        polygon_coordinates = topojson_to_coordinates(feature[\"arcs\"][0], topo_data[\"arcs\"])\n",
    "        polygon = Polygon(polygon_coordinates)\n",
    "        if point.within(polygon):\n",
    "            lsoa_code = feature[\"properties\"][\"LSOA11CD\"]\n",
    "            lsoa_name = feature[\"properties\"][\"LSOA11NM\"]\n",
    "            break\n",
    "    elif feature[\"type\"] == \"MultiPolygon\":\n",
    "        for polygon_arc in feature[\"arcs\"]:\n",
    "            polygon_coordinates = topojson_to_coordinates(polygon_arc[0], topo_data[\"arcs\"])\n",
    "            polygon = Polygon(polygon_coordinates)\n",
    "            if point.within(polygon):\n",
    "                lsoa_code = feature[\"properties\"][\"LSOA11CD\"]\n",
    "                lsoa_name = feature[\"properties\"][\"LSOA11NM\"]\n",
    "                break\n",
    "    if lsoa_code:\n",
    "        break\n",
    "\n",
    "lsoa_code, lsoa_name\n"
   ]
  },
  {
   "cell_type": "markdown",
   "id": "017271be",
   "metadata": {},
   "source": [
    "## Use LSOA to generate crime , air pollution and medical report"
   ]
  },
  {
   "cell_type": "code",
   "execution_count": null,
   "id": "b285d0f1",
   "metadata": {},
   "outputs": [],
   "source": [
    "\n",
    "# Load the dataset\n",
    "file_path = 'physical_activity_v6.csv'\n",
    "data = pd.read_csv(file_path)"
   ]
  },
  {
   "cell_type": "code",
   "execution_count": null,
   "id": "4006e1b6-c3af-4f92-9830-d495f03fed06",
   "metadata": {},
   "outputs": [],
   "source": [
    "def generate_report(lsoa_code):\n",
    "    # Find the row for the specified LSOA\n",
    "    lsoa_data = data[data['LSOA21CD'] == lsoa_code].iloc[0]\n",
    "    \n",
    "    # Extract required data\n",
    "    crime_rate = lsoa_data['%Crime']\n",
    "    air_quality = lsoa_data['air_quality']\n",
    "    health_index = lsoa_data['%Health_Cov']\n",
    "    \n",
    "    # Initialize report components\n",
    "    crime_report = \"\"\n",
    "    air_quality_report = \"\"\n",
    "    health_index_report = \"\"\n",
    "    \n",
    "    # Generate crime rate report\n",
    "    crime_messages = [\n",
    "        {\"role\": \"system\", \"content\": \"You are a professional real estate analyst.\"},\n",
    "        {\"role\": \"user\", \"content\": f\"Explain the significance of a crime rate of {crime_rate}% in an LSOA area.The average crime rate is 11.7. give short summery.\"}\n",
    "    ]\n",
    "    crime_response = openai.ChatCompletion.create(\n",
    "        model=\"gpt-3.5-turbo\",\n",
    "        messages=crime_messages\n",
    "    )\n",
    "    crime_report = \"Crime Rate Report: \" + crime_response['choices'][0]['message']['content']\n",
    "    \n",
    "    # Generate air quality report\n",
    "    air_quality_messages = [\n",
    "        {\"role\": \"system\", \"content\": \"You are a professional real estate analyst.\"},\n",
    "        {\"role\": \"user\", \"content\": f\"Analyze the air quality index of {air_quality} in an LSOA area.give short summery.\"}\n",
    "    ]\n",
    "    air_quality_response = openai.ChatCompletion.create(\n",
    "        model=\"gpt-3.5-turbo\",\n",
    "        messages=air_quality_messages\n",
    "    )\n",
    "    air_quality_report = \"Air Quality Report: \" + air_quality_response['choices'][0]['message']['content']\n",
    "    \n",
    "    # Generate health index report\n",
    "    health_index_messages = [\n",
    "        {\"role\": \"system\", \"content\": \"You are a professional real estate analyst.\"},\n",
    "        {\"role\": \"user\", \"content\": f\"Discuss the importance of a health index of {health_index} in an LSOA area, indicating the availability of medical resources.give short summery.\"}\n",
    "    ]\n",
    "    health_index_response = openai.ChatCompletion.create(\n",
    "        model=\"gpt-3.5-turbo\",\n",
    "        messages=health_index_messages\n",
    "    )\n",
    "    health_index_report = \"Health Index Report: \" + health_index_response['choices'][0]['message']['content']\n",
    "    \n",
    "    # Return reports as a tuple\n",
    "    return (crime_report, air_quality_report, health_index_report)"
   ]
  },
  {
   "cell_type": "code",
   "execution_count": null,
   "id": "c8fccdb3-3aef-4969-85b0-a7a416abb2a7",
   "metadata": {},
   "outputs": [],
   "source": [
    "crime_report, air_quality_report, health_index_report = generate_report(lsoa_code)"
   ]
  },
  {
   "cell_type": "code",
   "execution_count": null,
   "id": "c2c010fa-72cf-47ad-95e1-46dbf5250e81",
   "metadata": {},
   "outputs": [],
   "source": [
    "crime_report"
   ]
  },
  {
   "cell_type": "code",
   "execution_count": null,
   "id": "df28a345-d992-4298-8362-d35a8fe66b26",
   "metadata": {},
   "outputs": [],
   "source": [
    "air_quality_report"
   ]
  },
  {
   "cell_type": "code",
   "execution_count": null,
   "id": "688010c1-5936-474c-a378-1f98982c656b",
   "metadata": {
    "scrolled": true
   },
   "outputs": [],
   "source": [
    "health_index_report"
   ]
  },
  {
   "cell_type": "markdown",
   "id": "43255209",
   "metadata": {},
   "source": [
    "## House price analysis"
   ]
  },
  {
   "cell_type": "code",
   "execution_count": null,
   "id": "9459e686",
   "metadata": {},
   "outputs": [],
   "source": [
    "from house_price import House_price\n",
    "\n",
    "my_instance = House_price(lat, lon)\n",
    "\n",
    "area_average_price, annual_average_prices = my_instance.average_price()"
   ]
  },
  {
   "cell_type": "code",
   "execution_count": null,
   "id": "0df4d904",
   "metadata": {},
   "outputs": [],
   "source": [
    "area_average_price, annual_average_prices"
   ]
  },
  {
   "cell_type": "code",
   "execution_count": null,
   "id": "98843583",
   "metadata": {
    "scrolled": false
   },
   "outputs": [],
   "source": [
    "my_instance.line_map()\n"
   ]
  },
  {
   "cell_type": "code",
   "execution_count": null,
   "id": "7501d97a",
   "metadata": {
    "scrolled": false
   },
   "outputs": [],
   "source": [
    "m = my_instance.folium_map()\n",
    "m.save('house_price_location.html')\n",
    "m"
   ]
  },
  {
   "cell_type": "code",
   "execution_count": null,
   "id": "6c65597a",
   "metadata": {},
   "outputs": [],
   "source": []
  },
  {
   "cell_type": "markdown",
   "id": "c297037f",
   "metadata": {},
   "source": [
    "## Ranking for Planning Applications"
   ]
  },
  {
   "cell_type": "code",
   "execution_count": null,
   "id": "f9976192",
   "metadata": {},
   "outputs": [],
   "source": [
    "def get_scores_from_api(user_role,proposals):\n",
    "\n",
    "\n",
    "    messages = [\n",
    "        {\"role\": \"system\", \"content\": f\"As a professional real estate analyst\"},\n",
    "        {\"role\": \"user\", \"content\": f\"proposals: {proposals}.please rate the following future planning proposals related to the real estate near 250m on a scale of 0 to 10. This is the score of the proposal's impact on all aspects of the {user_role}'s purchase of the property. The higher the score, the greater the impact of the proposal on the future of the property.Do not delete any proposals. The answer format is: 1.score=x, Text of the proposal. 2.score=x, Text of the proposal. 3.score=x, Text of the proposal.....\"}\n",
    "    ]\n",
    "        \n",
    "    response = openai.ChatCompletion.create(\n",
    "        model=\"gpt-3.5-turbo\",\n",
    "        messages=messages,\n",
    "        max_tokens=4096\n",
    "    )\n",
    "\n",
    "    \n",
    "    return response\n",
    "\n"
   ]
  },
  {
   "cell_type": "code",
   "execution_count": null,
   "id": "3d9c7419",
   "metadata": {},
   "outputs": [],
   "source": [
    "app_pp = test2[test2['stage'].isin(['DETAILED PLANS SUBMITTED','DETAILED PLANS APPROVED'])]"
   ]
  },
  {
   "cell_type": "code",
   "execution_count": null,
   "id": "63f3b7ba",
   "metadata": {},
   "outputs": [],
   "source": [
    "proposals_text = app_pp['proposal'].str.cat(sep='\\n\\n')"
   ]
  },
  {
   "cell_type": "code",
   "execution_count": null,
   "id": "a641db0b",
   "metadata": {},
   "outputs": [],
   "source": [
    "user_role = 'home buyer'\n",
    "rated_proposals= get_scores_from_api(user_role,proposals_text)"
   ]
  },
  {
   "cell_type": "code",
   "execution_count": null,
   "id": "0dd6f0bb",
   "metadata": {},
   "outputs": [],
   "source": [
    "rated_proposals"
   ]
  },
  {
   "cell_type": "code",
   "execution_count": null,
   "id": "ae958d4c",
   "metadata": {},
   "outputs": [],
   "source": [
    "rated_text = rated_proposals.choices[0].message.content\n",
    "\n",
    "pattern = r'(\\d+)\\.\\s*score=(\\d+),\\s*(.*?)\\s*(?=\\d+\\.\\s*score=|$)'\n",
    "\n",
    "\n",
    "matches = re.findall(pattern, rated_text, re.DOTALL)\n",
    "\n",
    "df_auto = pd.DataFrame(matches, columns=['index', 'score', 'proposal'])\n",
    "\n",
    "\n",
    "df_auto['index'] = df_auto['index'].astype(int)\n",
    "df_auto['score'] = df_auto['score'].astype(int)\n",
    "\n",
    "df_auto  # Display the corrected DataFrame to verify\n",
    "\n"
   ]
  },
  {
   "cell_type": "code",
   "execution_count": null,
   "id": "99a34bc6",
   "metadata": {},
   "outputs": [],
   "source": [
    "filtered_proposal = df_auto[df_auto['score'] > 5]\n",
    "\n",
    "filtered_proposal"
   ]
  },
  {
   "cell_type": "markdown",
   "id": "90f373c0",
   "metadata": {},
   "source": [
    "## Comparative Analysis for all planning applications"
   ]
  },
  {
   "cell_type": "code",
   "execution_count": null,
   "id": "3c81871d",
   "metadata": {},
   "outputs": [],
   "source": [
    "import openai\n",
    "import pandas as pd\n",
    "\n",
    "def analyze_planning_applications(user_role, data):\n",
    "    \"\"\"\n",
    "    根据用户角色和规划应用程序数据集全面分析每个规划提案，生成房产规划建议报告。\n",
    "    \n",
    "    参数:\n",
    "    - user_role: 用户角色（'buyer'，'seller'，'agent'）\n",
    "    - dataset_path: 规划应用程序数据集的路径\n",
    "    \"\"\"\n",
    "\n",
    "    \n",
    "    # 分类应用\n",
    "    submit = data[data['stage'] == 'DETAILED PLANS SUBMITTED']\n",
    "    approved = data[data['stage'] == 'DETAILED PLANS APPROVED']\n",
    "    withdrawn = data[data['stage'] == 'WITHDRAWN']\n",
    "    refused = data[data['stage'] == 'REFUSED']\n",
    "    \n",
    "    # 构建 ChatGPT 请求的上下文，包括每个分类的所有提案\n",
    "    context = f\"\"\"\n",
    "    As a professional property analyst, I am analysing planning application proposals within 250m of specific properties for {user_role}. This dataset contains planning applications approved, submitted, withdrawn and rejected. The structure of the generated article is as follows: The four types of planning applications are analyzed one by one: approval, submission, withdrawal and rejection, and each type of planning application is compared and analyzed. Next, compare and analyze the reasons why some proposals were withdrawn or rejected. Finally, please compare the planning permission that has been granted for the property with the planning proposals that have been withdrawn and rejected, format the answers in html, Headings use h4, h5, h6level.\n",
    "    Submit applications details: {submit[['reference', 'proposal']].to_dict(orient='records')}\n",
    "    Approved applications details: {approved[['reference', 'proposal']].to_dict(orient='records')}\n",
    "    Withdrawn applications details: {withdrawn[['reference', 'proposal']].to_dict(orient='records')}\n",
    "    Refused applications details: {refused[['reference', 'proposal']].to_dict(orient='records')}\n",
    "    \"\"\"\n",
    "    # 调用 ChatGPT API 生成报告\n",
    "    response = openai.ChatCompletion.create(\n",
    "        model=\"gpt-3.5-turbo\",\n",
    "        messages=[\n",
    "            {\"role\": \"system\", \"content\": \"You are a real estate analyst providing comprehensive analysis.\"},\n",
    "            {\"role\": \"user\", \"content\": context}\n",
    "        ],\n",
    "    )\n",
    "    \n",
    "    # 打印生成的报告\n",
    "    report = response['choices'][0]['message']['content']\n",
    "    print(report)\n",
    "    return report.strip()\n"
   ]
  },
  {
   "cell_type": "code",
   "execution_count": null,
   "id": "96eb24ba",
   "metadata": {},
   "outputs": [],
   "source": [
    "comparative_Analysis = analyze_planning_applications(user_role, test2)"
   ]
  },
  {
   "cell_type": "markdown",
   "id": "03be6aee",
   "metadata": {},
   "source": [
    "## Benefits and Harms, Risks and Opportunities for approved and submitted applications"
   ]
  },
  {
   "cell_type": "code",
   "execution_count": null,
   "id": "6e55d977",
   "metadata": {},
   "outputs": [],
   "source": [
    "def generate_report_for_role(user_role, planning_applications):\n",
    "    \"\"\"\n",
    "    Generates a Target Audience Report tailored to the user role using model \"gpt-3.5-turbo\" and the chat completions endpoint.\n",
    "    \n",
    "    Parameters:\n",
    "    - user_role: str, the role of the user.\n",
    "    - planning_applications_insights: str, insights from planning applications.\n",
    "    \n",
    "    Returns:\n",
    "    - str, customized Target Audience Report.\n",
    "    \"\"\"\n",
    "    # Setup the messages based on user role\n",
    "    messages = [{\n",
    "        'role': 'system',\n",
    "        'content': f\"As a professional real estate analyst, Generate a dominance Report based on the following planning applications insights. What are benefits and harms, risks and opportunities for a {user_role}? There is no need to give a summary at the end,format the answers in html, Headings use h4, h5, h6level\"\n",
    "    }, {\n",
    "        'role': 'user',\n",
    "        'content': f\"{planning_applications}\"\n",
    "    }]\n",
    "    \n",
    "    response = openai.ChatCompletion.create(\n",
    "        model=\"gpt-3.5-turbo\",\n",
    "        messages=messages\n",
    "    )\n",
    "\n",
    "    # Assuming the last message contains the report\n",
    "    report = response['choices'][0]['message']['content']\n",
    "    return report.strip()\n",
    "\n"
   ]
  },
  {
   "cell_type": "code",
   "execution_count": null,
   "id": "362ce4b8",
   "metadata": {},
   "outputs": [],
   "source": [
    "# Generate reports for different roles\n",
    "proposals = filtered_proposal['proposal']\n",
    "dominance_report = generate_report_for_role(user_role, proposals)\n",
    "\n",
    "print(dominance_report)\n"
   ]
  },
  {
   "cell_type": "markdown",
   "id": "2dd1bd87",
   "metadata": {},
   "source": [
    "## Detailed analysis for most impactful applications"
   ]
  },
  {
   "cell_type": "code",
   "execution_count": null,
   "id": "71d13c9f",
   "metadata": {},
   "outputs": [],
   "source": [
    "impactful_proposal = df_auto[df_auto['score'] >= 8]\n",
    "\n",
    "impactful_proposal"
   ]
  },
  {
   "cell_type": "code",
   "execution_count": null,
   "id": "d85830d6",
   "metadata": {},
   "outputs": [],
   "source": [
    "example = \"\"\"\n",
    "<h4>the content of the Proposal</h4>\n",
    "<h5>Impact:</h5>\n",
    "<ul>\n",
    "  <li>content of the impact</li>\n",
    "</ul>\n",
    "\n",
    "<h5>Risks:</h5>\n",
    "<ul>\n",
    "  <li>content of the risk.</li>\n",
    "</ul>\n",
    "\"\"\""
   ]
  },
  {
   "cell_type": "code",
   "execution_count": null,
   "id": "404ff69f",
   "metadata": {},
   "outputs": [],
   "source": [
    "def analyze_proposal(proposal_description, user_role, example):\n",
    "\n",
    "    messages = [\n",
    "        {\n",
    "            \"role\": \"system\",\n",
    "            \"content\": f\"A professional real estate analyst is analyzing planning application proposals within 250m of a specific property for a {user_role}. Provide detailed insights into the proposals to help understand the most important developments and the risks associated with purchasing the property with highlighting the planning application and write its impact in bullet format.Don't add a conclusion at the end, format the answers in html,the example format is{example}\" \n",
    "\n",
    "        },\n",
    "        {\n",
    "            \"role\": \"user\",\n",
    "            \"content\": f\"Description: {proposal_description}.Don't add a conclusion at the end\"\n",
    "        }\n",
    "    ]\n",
    "    \n",
    "    try:\n",
    "        response = openai.ChatCompletion.create(\n",
    "            model=\"gpt-3.5-turbo\",\n",
    "            messages=messages,\n",
    "            temperature=0.5,\n",
    "            max_tokens=4000\n",
    "        )\n",
    "        \n",
    "        # 提取并打印分析结果\n",
    "        print(f\"Analysis for Proposal Reference: {proposal_description}\")\n",
    "        # 注意：根据 API 返回的具体结构可能需要调整\n",
    "        for message in response['choices']:\n",
    "            print(message['message']['content'])\n",
    "\n",
    "    except Exception as e:\n",
    "        print(f\"Error calling OpenAI API for proposal reference {proposal_description}: {e}\")\n",
    "        \n",
    "    report = response['choices'][0]['message']['content']\n",
    "    return report.strip()"
   ]
  },
  {
   "cell_type": "code",
   "execution_count": null,
   "id": "11b70035",
   "metadata": {
    "scrolled": false
   },
   "outputs": [],
   "source": [
    "detaileds = []\n",
    "for index, proposal in impactful_proposal.iterrows():\n",
    "    detailed = analyze_proposal(proposal.get('proposal', 'N/A'), user_role, example)\n",
    "    detaileds.append(detailed)"
   ]
  },
  {
   "cell_type": "markdown",
   "id": "a41e01a9-647c-405e-bfc1-d9e12582670f",
   "metadata": {},
   "source": [
    "## Environmental Impact"
   ]
  },
  {
   "cell_type": "code",
   "execution_count": null,
   "id": "a582bf77-c370-4390-a651-6b7f158d0c40",
   "metadata": {},
   "outputs": [],
   "source": [
    "def analyze_martello(mar_data, user_role):\n",
    "\n",
    "    messages = [\n",
    "        {\n",
    "            \"role\": \"system\",\n",
    "            \"content\": f\"Professional real estate analysts are analyzing data on specific properties for {user_role}. Provide detailed insight into the proposal to help understand the environmental impact on property and the risks associated with purchasing the property. Give very short description for each factor with title. Don't add a conclusion to the end, format the answers in html,Headings use h4, h5, h6level, Do not include line breaks in the answer\\n\"\n",
    "        },\n",
    "        {\n",
    "            \"role\": \"user\",\n",
    "            \"content\": f\"Description: {mar_data}.Don't add a conclusion at the end\"\n",
    "        }\n",
    "    ]\n",
    "    \n",
    "    try:\n",
    "        response = openai.ChatCompletion.create(\n",
    "            model=\"gpt-3.5-turbo\",\n",
    "            messages=messages,\n",
    "            temperature=0.7,\n",
    "            max_tokens=4096,\n",
    "            top_p=1.0,\n",
    "            frequency_penalty=0.0,\n",
    "            presence_penalty=0.0\n",
    "        )\n",
    "        \n",
    "\n",
    "    except Exception as e:\n",
    "        print(f\"Error calling OpenAI API: {e}\")\n",
    "\n",
    "    report = response['choices'][0]['message']['content']\n",
    "    print(report)\n",
    "    \n",
    "    return report.strip()"
   ]
  },
  {
   "cell_type": "code",
   "execution_count": null,
   "id": "16c3035f-1bf0-41f5-b2f4-27683e7b3094",
   "metadata": {},
   "outputs": [],
   "source": [
    "mar_info=\"Active Landfill (+): The title is more than 1km from any active landfill. COMAH Establishments (-): The Health and Safety Executive (HSE) indicates that the title is likely to be within a Control of Major Accident Hazard (COMAH) site Public Information Zone (PIZ) - the threshold being 10km for Upper Tier COMAH sites and 1km for Lower Tier COMAH sites. COMAH applies to the industries where threshold quantities of dangerous substances are identified. COMAH sites are highly regulated to minimise risks to the environment and people. Proximity to a COMAH site may cause risks in the event of an accident, and it could potentially impact future development of the title. To obtain specific and up-to-date information about site PIZs, you should contact the relevant Local Authority, Emergency Services, or the operator of the COMAH site in question. Pluvial (+):No flood risk issues of concern were identified. Flood hazards are either not present in the search area or are considered very low likelihood and severity. Historical Flood Areas (-): The property is not in an area which has been flooded in the past, however it is within 250 meters of a previous flood. Green Belt (+): The title is not within a green belt designated area. Nature Reserves (+): The title is more than 250 metres of a Local or National Nature Reserve. Listed Buildings (-): The title is within 250 metres of 1 or more Listed Buildings. Owning or living near a listed building may require adherence to strict regulations for alterations or renovations to preserve its historic or architectural value. Refer to section Certificates of Immunity to check whether immunity has been granted against certain planning restrictions. Radon (-): The title is in a Radon Affected Area where 3% to 5% of homes are estimated to be at or above the Action Level. Overground Rail (+): The title is more than 250 metres away from a railway station or line. Landslides (+): No indicators for slope instability identified. No special actions required to avoid problems due to landslides. No special ground investigation required, and increased construction costs or increased financial risks are unlikely due to potential problems with landslides.\""
   ]
  },
  {
   "cell_type": "code",
   "execution_count": null,
   "id": "d37997f5-3f35-4dd7-a38d-d8c42907c0c9",
   "metadata": {},
   "outputs": [],
   "source": [
    "martello=analyze_martello(mar_info, user_role)"
   ]
  },
  {
   "cell_type": "markdown",
   "id": "b2b3d0f9",
   "metadata": {},
   "source": [
    "## Conclusion"
   ]
  },
  {
   "cell_type": "code",
   "execution_count": null,
   "id": "20b0d391",
   "metadata": {},
   "outputs": [],
   "source": [
    "import openai\n",
    "\n",
    "\n",
    "\n",
    "def generate_planning_proposal_summary(user_role, comparative_Analysis, dominance_report, detaileds, martello, crime_report, air_quality_report, health_index_report):\n",
    "    \"\"\"\n",
    "    根据用户角色和规划提案的具体分析生成总结报告。\n",
    "\n",
    "    参数:\n",
    "    user_role: 用户角色（'buyer', 'seller', 'agent'）\n",
    "    proposal_analyses: 规划提案的具体分析列表\n",
    "    \"\"\"\n",
    "    # 构建输入消息\n",
    "    messages = [\n",
    "        {\"role\": \"system\", \"content\": f\"As a professional real estate analyst, Generate a Conclusion  based on the following planning applications insights for a {user_role}.Write the summary in a 250 word paragraph，just one paragraph,format the answers in html, Headings use h4, h5, h6level, Do not include line breaks in the answer\\n\"},\n",
    "        {\"role\": \"user\", \"content\": f\" Below is planning application proposals within 250m of a specific property.{detaileds},The report contains the following contents, Comparative Analysis:{comparative_Analysis}, dominance report: {dominance_report} ,martello{martello},{crime_report}, {air_quality_report}, {health_index_report}\"}\n",
    "    ]\n",
    "    \n",
    "\n",
    "    # 调用 ChatGPT API\n",
    "    try:\n",
    "        response = openai.ChatCompletion.create(\n",
    "            model=\"gpt-3.5-turbo\",\n",
    "            messages=messages,\n",
    "            temperature=0.7,\n",
    "            max_tokens=4096,\n",
    "            top_p=1.0,\n",
    "            frequency_penalty=0.0,\n",
    "            presence_penalty=0.0\n",
    "        )\n",
    "        \n",
    "\n",
    "    except Exception as e:\n",
    "        print(f\"Error calling OpenAI API: {e}\")\n",
    "\n",
    "    report = response['choices'][0]['message']['content']\n",
    "    print(report)\n",
    "    \n",
    "    return report.strip()"
   ]
  },
  {
   "cell_type": "code",
   "execution_count": null,
   "id": "58f9ad79",
   "metadata": {},
   "outputs": [],
   "source": [
    "summary = generate_planning_proposal_summary(user_role, comparative_Analysis, dominance_report, detaileds, martello, crime_report, air_quality_report, health_index_report)"
   ]
  },
  {
   "cell_type": "markdown",
   "id": "5aaffb73",
   "metadata": {},
   "source": [
    "## Recommendations"
   ]
  },
  {
   "cell_type": "code",
   "execution_count": null,
   "id": "a490e35d",
   "metadata": {},
   "outputs": [],
   "source": [
    "import openai\n",
    "\n",
    "\n",
    "\n",
    "def generate_recommendation(user_role, comparative_Analysis, dominance_report, detaileds, martello, crime_report, air_quality_report, health_index_report):\n",
    "    \"\"\"\n",
    "    根据用户角色和规划提案的具体分析生成总结报告。\n",
    "\n",
    "    参数:\n",
    "    user_role: 用户角色（'buyer', 'seller', 'agent'）\n",
    "    proposal_analyses: 规划提案的具体分析列表\n",
    "    \"\"\"\n",
    "    # 构建输入消息\n",
    "    messages = [\n",
    "        {\"role\": \"system\", \"content\": f\"As a professional real estate analyst, Generate a general Recommendations based on the following property report,Cross-analyze to make the recommendations, To help {user_role} make informed choices about property transaction.format the answers in html, Headings use  h5, h6level,Do not include line breaks in the answer\\n\"},\n",
    "        {\"role\": \"user\", \"content\": f\" Below is planning application proposals within 250m of a specific property.{detaileds},The report contains the following contents, Comparative Analysis:{comparative_Analysis}, dominance report: {dominance_report} ,martello{martello},{crime_report}, {air_quality_report}, {health_index_report}\"}\n",
    "    ]\n",
    "    \n",
    "\n",
    "    # 调用 ChatGPT API\n",
    "    try:\n",
    "        response = openai.ChatCompletion.create(\n",
    "            model=\"gpt-3.5-turbo\",\n",
    "            messages=messages,\n",
    "            temperature=0.7,\n",
    "            max_tokens=4096,\n",
    "            top_p=1.0,\n",
    "            frequency_penalty=0.0,\n",
    "            presence_penalty=0.0\n",
    "        )\n",
    "        \n",
    "\n",
    "    except Exception as e:\n",
    "        print(f\"Error calling OpenAI API: {e}\")\n",
    "\n",
    "    report = response['choices'][0]['message']['content']\n",
    "    print(report)\n",
    "    \n",
    "    return report.strip()"
   ]
  },
  {
   "cell_type": "code",
   "execution_count": null,
   "id": "7f727092",
   "metadata": {},
   "outputs": [],
   "source": [
    "Recommendation = generate_recommendation(user_role, comparative_Analysis, dominance_report, detaileds, martello, crime_report, air_quality_report, health_index_report)"
   ]
  },
  {
   "cell_type": "markdown",
   "id": "fce24d75",
   "metadata": {},
   "source": [
    "## Decision"
   ]
  },
  {
   "cell_type": "code",
   "execution_count": null,
   "id": "6cca1c46",
   "metadata": {},
   "outputs": [],
   "source": [
    "import openai\n",
    "\n",
    "\n",
    "\n",
    "def generate_decision(user_role, comparative_Analysis, dominance_report, detaileds, martello, crime_report, air_quality_report, health_index_report, Recommendation):\n",
    "    \"\"\"\n",
    "    根据用户角色和规划提案的具体分析生成总结报告。\n",
    "\n",
    "    参数:\n",
    "    user_role: 用户角色（'buyer', 'seller', 'agent'）\n",
    "    proposal_analyses: 规划提案的具体分析列表\n",
    "    \"\"\"\n",
    "    # 构建输入消息\n",
    "    messages = [\n",
    "        {\"role\": \"system\", \"content\": f\" As a professional real estate analyst, giving a overall insightful overview that can help {user_role} to take decision of this property transation. give the decide of whether or not to buy this property. 100 word limit, one paragraph.format the answers in html, Headings use h4, h5, h6level,Do not include line breaks in the answer\\n\"},\n",
    "        {\"role\": \"user\", \"content\": f\" here is extensive analysis on a property,Below is planning application proposals within 250m of a specific property.{detaileds},The report contains the following contents, Comparative Analysis:{comparative_Analysis}, dominance report: {dominance_report} ,martello{martello},{crime_report}, {air_quality_report}, {health_index_report},Recommendation:{Recommendation}\"}\n",
    "    ]\n",
    "    \n",
    "\n",
    "    # 调用 ChatGPT API\n",
    "    try:\n",
    "        response = openai.ChatCompletion.create(\n",
    "            model=\"gpt-3.5-turbo\",\n",
    "            messages=messages,\n",
    "            temperature=0.7,\n",
    "            max_tokens=4096,\n",
    "            top_p=1.0,\n",
    "            frequency_penalty=0.0,\n",
    "            presence_penalty=0.0\n",
    "        )\n",
    "        \n",
    "\n",
    "    except Exception as e:\n",
    "        print(f\"Error calling OpenAI API: {e}\")\n",
    "\n",
    "    report = response['choices'][0]['message']['content']\n",
    "    print(report)\n",
    "    \n",
    "    return report.strip()"
   ]
  },
  {
   "cell_type": "code",
   "execution_count": null,
   "id": "72ae9c56",
   "metadata": {},
   "outputs": [],
   "source": [
    "decision = generate_decision(user_role, comparative_Analysis, dominance_report, detaileds, martello, crime_report, air_quality_report, health_index_report,Recommendation)"
   ]
  },
  {
   "cell_type": "markdown",
   "id": "46310a49-2221-4d3c-80cc-45192e22fee9",
   "metadata": {},
   "source": [
    "## Brief"
   ]
  },
  {
   "cell_type": "code",
   "execution_count": null,
   "id": "532df814-4e69-4c59-9e24-6676518bd6d4",
   "metadata": {},
   "outputs": [],
   "source": [
    "def generate_brief(user_role, basic_info):\n",
    "\n",
    "    # 构建输入消息\n",
    "    messages = [\n",
    "        {\"role\": \"system\", \"content\": f\"As a professional real estate analyst.format the answers in html, Headings use h4, h5, h6level,Do not include line breaks in the answer\\n\"},\n",
    "        {\"role\": \"user\", \"content\": f\"Please write a basic description of the house accformat the answers in htmlording to the information given, basic informauser_roletion: {basic_info}\"}\n",
    "    ]\n",
    "    \n",
    "\n",
    "    # 调用 ChatGPT API\n",
    "    try:\n",
    "        response = openai.ChatCompletion.create(\n",
    "            model=\"gpt-3.5-turbo\",\n",
    "            messages=messages,\n",
    "            temperature=0.7,\n",
    "            max_tokens=4096,\n",
    "            top_p=1.0,\n",
    "            frequency_penalty=0.0,\n",
    "            presence_penalty=0.0\n",
    "        )\n",
    "        \n",
    "\n",
    "    except Exception as e:\n",
    "        print(f\"Error calling OpenAI API: {e}\")\n",
    "\n",
    "    report = response['choices'][0]['message']['content']\n",
    "    print(report)\n",
    "    \n",
    "    return report.strip()"
   ]
  },
  {
   "cell_type": "code",
   "execution_count": null,
   "id": "8c0c44a7-599a-4692-8de5-c61992f91d47",
   "metadata": {},
   "outputs": [],
   "source": [
    "basic_info=\"House name: 43 Hanover Square,FLAT 3 43 Hanover Square in Leeds is a leasehold 1-bedroom mid-terrace flat with an EPC rating of D. This property has the UPRN (Unique Property Reference Number) 72533861 and was last sold for £238500 on 15/09/2022. Total Floor Area 39.0 sq. metres, Floor Height 2.2 metres, Habitable Rooms 2 rooms, Bedroom 1, Reception room 1, Built form Mid-Terrace.\""
   ]
  },
  {
   "cell_type": "code",
   "execution_count": null,
   "id": "cdcc7e1c-c556-4c9f-bc4a-9f478eea568e",
   "metadata": {},
   "outputs": [],
   "source": [
    "brief=generate_brief(user_role, basic_info)"
   ]
  },
  {
   "cell_type": "markdown",
   "id": "502d0c1c",
   "metadata": {},
   "source": [
    "## Introduction "
   ]
  },
  {
   "cell_type": "code",
   "execution_count": null,
   "id": "e2943078",
   "metadata": {},
   "outputs": [],
   "source": [
    "def generate_introduction(user_role, basic_info, repo_info):\n",
    "\n",
    "    # 构建输入消息\n",
    "    messages = [\n",
    "        {\"role\": \"system\", \"content\": f\"As a professional real estate analyst.format the answers in html, Headings use h4, h5, h6level,Do not include line breaks in the answer\\n\"},\n",
    "        {\"role\": \"user\", \"content\": f\"please summarize the introduction of the report for {user_role}. report_information:{repo_info} \"}\n",
    "    ]\n",
    "    \n",
    "\n",
    "    # 调用 ChatGPT API\n",
    "    try:\n",
    "        response = openai.ChatCompletion.create(\n",
    "            model=\"gpt-3.5-turbo\",\n",
    "            messages=messages,\n",
    "            temperature=0.7,\n",
    "            max_tokens=4096,\n",
    "            top_p=1.0,\n",
    "            frequency_penalty=0.0,\n",
    "            presence_penalty=0.0\n",
    "        )\n",
    "        \n",
    "\n",
    "    except Exception as e:\n",
    "        print(f\"Error calling OpenAI API: {e}\")\n",
    "\n",
    "    report = response['choices'][0]['message']['content']\n",
    "    print(report)\n",
    "    \n",
    "    return report.strip()"
   ]
  },
  {
   "cell_type": "code",
   "execution_count": null,
   "id": "5e2fd052",
   "metadata": {},
   "outputs": [],
   "source": [
    "repo_info = \"This report provides an in-depth analysis of the property, offering insights into local planning applications, environmental factors, amenities, public transportation, crime rates, and air quality. These elements are crucial for making an informed decision about your potential new home.\""
   ]
  },
  {
   "cell_type": "code",
   "execution_count": null,
   "id": "45a4aa82",
   "metadata": {
    "scrolled": true
   },
   "outputs": [],
   "source": [
    "introduction = generate_introduction(user_role, basic_info, repo_info)"
   ]
  },
  {
   "cell_type": "markdown",
   "id": "a77c538c",
   "metadata": {},
   "source": [
    "## Final Report"
   ]
  },
  {
   "cell_type": "code",
   "execution_count": null,
   "id": "8ff2d13a",
   "metadata": {},
   "outputs": [],
   "source": [
    "doc = Document()\n",
    "\n",
    "doc_title = \"Report for {}\".format(user_role)\n",
    "doc.add_heading(doc_title, level=1)\n",
    "\n",
    "doc.add_heading('Introduction', level=2)\n",
    "doc.add_paragraph(introduction)\n",
    "\n",
    "doc.add_heading('Property Report Overview ', level=3)\n",
    "doc.add_paragraph(brief)\n",
    "\n",
    "image_path1 = 'Map with Planning Application .png'  # Replace with the path to your image\n",
    "doc.add_picture(image_path1, width=Inches(4), height=Inches(3.0))\n",
    "doc.add_paragraph(\"Map with Planning Application\")\n",
    "\n",
    "doc.add_heading('House Price Trend', level=3)\n",
    "image_path2 = 'house_price.png'\n",
    "doc.add_picture(image_path1, width=Inches(4), height=Inches(3.0))\n",
    "doc.add_paragraph(\"House Price\")\n",
    "\n",
    "doc.add_heading('Analysis', level=1)\n",
    "\n",
    "doc.add_heading('Comparative Analysis for all the appplications', level=2)\n",
    "doc.add_paragraph(comparative_Analysis)\n",
    "\n",
    "doc.add_heading('Dominance Report for approved and submitted appplications', level=2)\n",
    "doc.add_paragraph(dominance_report)\n",
    "\n",
    "detaileds_content = '\\n'.join(detaileds)\n",
    "doc.add_heading('Detailed analysis for most impactful applications', level=2)\n",
    "doc.add_paragraph(detaileds_content)\n",
    "\n",
    "doc.add_heading('Environmental Report', level=2)\n",
    "doc.add_paragraph(martello)\n",
    "\n",
    "doc.add_heading('Other Data Report', level=2)\n",
    "doc.add_heading('Crime Report', level=3)\n",
    "doc.add_paragraph(crime_report)\n",
    "doc.add_heading('air pollution Report', level=3)\n",
    "doc.add_paragraph(air_quality_report)\n",
    "doc.add_heading('Medical index Report', level=3)\n",
    "doc.add_paragraph(health_index_report)\n",
    "\n",
    "doc.add_heading('Dominance report', level=2)\n",
    "doc.add_paragraph(dominance_report)\n",
    "\n",
    "doc.add_heading('Recommendations', level=2)\n",
    "doc.add_paragraph(Recommendation)\n",
    "\n",
    "doc.add_heading('Conclusion', level=2)\n",
    "doc.add_paragraph(summary)\n",
    "\n",
    "doc_name = \"report for {}.docx\".format(user_role)\n",
    "\n",
    "doc.save(doc_name)\n"
   ]
  },
  {
   "cell_type": "code",
   "execution_count": null,
   "id": "f8353771",
   "metadata": {},
   "outputs": [],
   "source": [
    "doc_name"
   ]
  },
  {
   "cell_type": "code",
   "execution_count": null,
   "id": "43fdec38",
   "metadata": {},
   "outputs": [],
   "source": []
  },
  {
   "cell_type": "code",
   "execution_count": null,
   "id": "4448664e",
   "metadata": {},
   "outputs": [],
   "source": [
    "\n",
    "\n",
    "detaileds = [item.replace('\\n', '') for item in detaileds]\n",
    "image_path1 = 'Map with Planning Application .png' \n",
    "image_path2 = 'house_price.png'\n",
    "\n",
    "# Define the HTML content\n",
    "html_content = f\"\"\"\n",
    "<!DOCTYPE html>\n",
    "<html lang=\"en\">\n",
    "<head>\n",
    "    <meta charset=\"UTF-8\">\n",
    "    <title>Report for {user_role}</title>\n",
    "    <style>\n",
    "        body {{ font-family: Arial, sans-serif; margin: 20px; }}\n",
    "        h1, h2, h3 {{ color: navy; }}\n",
    "        p {{ text-align: justify; }}\n",
    "        img {{ width: 400px; height: auto; display: block; margin: 20px 0; }}\n",
    "    </style>\n",
    "</head>\n",
    "<body>\n",
    "    <h1>Report for {user_role}</h1>\n",
    "\n",
    "    <h2>Introduction</h2>\n",
    "    <p>{introduction}</p>\n",
    "\n",
    "    <h3>Property Report Overview</h3>\n",
    "    <p>{brief}</p>\n",
    "    \n",
    "    <iframe src=\"porposal_location.html\" style=\"width: 60%; height: 500px; border: none;\"></iframe>\n",
    "    <p>Map with Planning Application</p>\n",
    "\n",
    "    <h3>House Price Trend</h3>\n",
    "    <img src=\"{image_path2}\" alt=\"House Price Trend\">\n",
    "    <p>House Price Trend</p>\n",
    "    <h3>House Price Location</h3>\n",
    "    <iframe src=\"house_price_location.html\" style=\"width: 60%; height: 500px; border: none;\"></iframe>\n",
    "    <p>Map with House Price Location</p>\n",
    "\n",
    "    <h2>Analysis</h2>\n",
    "    <h3>Comparative Analysis for all the applications</h3>\n",
    "    <p>{comparative_Analysis}</p>\n",
    "\n",
    "    <h3>Dominance Report for approved and submitted applications</h3>\n",
    "    <p>{dominance_report}</p>\n",
    "\n",
    "    <h3>Detailed analysis for most impactful applications</h3>\n",
    "    <p>{detaileds}</p>\n",
    "\n",
    "    <h2>Environmental Report</h2>\n",
    "    <p>{martello}</p>\n",
    "\n",
    "    <h2>Other Data Report</h2>\n",
    "    <h3>Crime Report</h3>\n",
    "    <p>{crime_report}</p>\n",
    "\n",
    "    <h3>Air Pollution Report</h3>\n",
    "    <p>{air_quality_report}</p>\n",
    "\n",
    "    <h3>Medical Index Report</h3>\n",
    "    <p>{health_index_report}</p>\n",
    "\n",
    "    <h2>Recommendations</h2>\n",
    "    <p>{Recommendation}</p>\n",
    "\n",
    "    <h2>Conclusion</h2>\n",
    "    <p>{summary}</p>\n",
    "</body>\n",
    "</html>\n",
    "\"\"\"\n",
    "\n",
    "# Specify the path and save the HTML content to a file with UTF-8 encoding\n",
    "html_file_path = \"report_for_{}.html\".format(user_role.lower().replace(\" \", \"_\"))\n",
    "with open(html_file_path, 'w', encoding='utf-8') as file:\n",
    "    file.write(html_content)\n",
    "\n",
    "# Provide the path for user to download or view the generated HTML file\n",
    "html_file_path\n"
   ]
  },
  {
   "cell_type": "code",
   "execution_count": null,
   "id": "0c0af12c-8722-4fe3-97ac-9d08bb7a1a40",
   "metadata": {},
   "outputs": [],
   "source": []
  },
  {
   "cell_type": "code",
   "execution_count": null,
   "id": "0a69295a-8342-49cf-ad19-29fe752a289a",
   "metadata": {},
   "outputs": [],
   "source": []
  },
  {
   "cell_type": "code",
   "execution_count": null,
   "id": "502afad0",
   "metadata": {},
   "outputs": [],
   "source": []
  },
  {
   "cell_type": "code",
   "execution_count": null,
   "id": "bdedcd95",
   "metadata": {},
   "outputs": [],
   "source": []
  }
 ],
 "metadata": {
  "kernelspec": {
   "display_name": "Python 3 (ipykernel)",
   "language": "python",
   "name": "python3"
  },
  "language_info": {
   "codemirror_mode": {
    "name": "ipython",
    "version": 3
   },
   "file_extension": ".py",
   "mimetype": "text/x-python",
   "name": "python",
   "nbconvert_exporter": "python",
   "pygments_lexer": "ipython3",
   "version": "3.11.5"
  }
 },
 "nbformat": 4,
 "nbformat_minor": 5
}
